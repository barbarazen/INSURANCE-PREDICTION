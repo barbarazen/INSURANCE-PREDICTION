{
 "cells": [
  {
   "cell_type": "markdown",
   "metadata": {},
   "source": [
    "# Libraries"
   ]
  },
  {
   "cell_type": "code",
   "execution_count": 1,
   "metadata": {},
   "outputs": [],
   "source": [
    "# Data analysis and wrangling\n",
    "import pandas as pd\n",
    "import numpy as np\n",
    "\n",
    "# Data visualisation\n",
    "import matplotlib.pyplot as plt\n",
    "import seaborn as sns\n",
    "get_ipython().run_line_magic('matplotlib', 'inline')\n",
    "\n",
    "#remove warnings\n",
    "import warnings\n",
    "warnings.filterwarnings('ignore')\n",
    "\n",
    "#sklearn\n",
    "from sklearn.model_selection import train_test_split, GridSearchCV\n",
    "from sklearn import linear_model\n",
    "from sklearn.linear_model import LinearRegression\n",
    "from sklearn import metrics\n",
    "from sklearn.preprocessing import StandardScaler\n",
    "from sklearn.ensemble import RandomForestRegressor"
   ]
  },
  {
   "cell_type": "code",
   "execution_count": 2,
   "metadata": {},
   "outputs": [
    {
     "data": {
      "text/html": [
       "<div>\n",
       "<style scoped>\n",
       "    .dataframe tbody tr th:only-of-type {\n",
       "        vertical-align: middle;\n",
       "    }\n",
       "\n",
       "    .dataframe tbody tr th {\n",
       "        vertical-align: top;\n",
       "    }\n",
       "\n",
       "    .dataframe thead th {\n",
       "        text-align: right;\n",
       "    }\n",
       "</style>\n",
       "<table border=\"1\" class=\"dataframe\">\n",
       "  <thead>\n",
       "    <tr style=\"text-align: right;\">\n",
       "      <th></th>\n",
       "      <th>age</th>\n",
       "      <th>sex</th>\n",
       "      <th>bmi</th>\n",
       "      <th>children</th>\n",
       "      <th>smoker</th>\n",
       "      <th>region</th>\n",
       "      <th>charges</th>\n",
       "    </tr>\n",
       "  </thead>\n",
       "  <tbody>\n",
       "    <tr>\n",
       "      <th>0</th>\n",
       "      <td>19</td>\n",
       "      <td>female</td>\n",
       "      <td>27.900</td>\n",
       "      <td>0</td>\n",
       "      <td>yes</td>\n",
       "      <td>southwest</td>\n",
       "      <td>16884.92400</td>\n",
       "    </tr>\n",
       "    <tr>\n",
       "      <th>1</th>\n",
       "      <td>18</td>\n",
       "      <td>male</td>\n",
       "      <td>33.770</td>\n",
       "      <td>1</td>\n",
       "      <td>no</td>\n",
       "      <td>southeast</td>\n",
       "      <td>1725.55230</td>\n",
       "    </tr>\n",
       "    <tr>\n",
       "      <th>2</th>\n",
       "      <td>28</td>\n",
       "      <td>male</td>\n",
       "      <td>33.000</td>\n",
       "      <td>3</td>\n",
       "      <td>no</td>\n",
       "      <td>southeast</td>\n",
       "      <td>4449.46200</td>\n",
       "    </tr>\n",
       "    <tr>\n",
       "      <th>3</th>\n",
       "      <td>33</td>\n",
       "      <td>male</td>\n",
       "      <td>22.705</td>\n",
       "      <td>0</td>\n",
       "      <td>no</td>\n",
       "      <td>northwest</td>\n",
       "      <td>21984.47061</td>\n",
       "    </tr>\n",
       "    <tr>\n",
       "      <th>4</th>\n",
       "      <td>32</td>\n",
       "      <td>male</td>\n",
       "      <td>28.880</td>\n",
       "      <td>0</td>\n",
       "      <td>no</td>\n",
       "      <td>northwest</td>\n",
       "      <td>3866.85520</td>\n",
       "    </tr>\n",
       "  </tbody>\n",
       "</table>\n",
       "</div>"
      ],
      "text/plain": [
       "   age     sex     bmi  children smoker     region      charges\n",
       "0   19  female  27.900         0    yes  southwest  16884.92400\n",
       "1   18    male  33.770         1     no  southeast   1725.55230\n",
       "2   28    male  33.000         3     no  southeast   4449.46200\n",
       "3   33    male  22.705         0     no  northwest  21984.47061\n",
       "4   32    male  28.880         0     no  northwest   3866.85520"
      ]
     },
     "execution_count": 2,
     "metadata": {},
     "output_type": "execute_result"
    }
   ],
   "source": [
    "data = pd.read_csv('insurance.csv')\n",
    "data.head()"
   ]
  },
  {
   "cell_type": "code",
   "execution_count": 3,
   "metadata": {},
   "outputs": [
    {
     "data": {
      "text/plain": [
       "(1338, 7)"
      ]
     },
     "execution_count": 3,
     "metadata": {},
     "output_type": "execute_result"
    }
   ],
   "source": [
    "#finding the number of rows and columns of the data.\n",
    "data.shape"
   ]
  },
  {
   "cell_type": "markdown",
   "metadata": {},
   "source": [
    "# Details of the data"
   ]
  },
  {
   "cell_type": "code",
   "execution_count": 4,
   "metadata": {},
   "outputs": [
    {
     "name": "stdout",
     "output_type": "stream",
     "text": [
      "<class 'pandas.core.frame.DataFrame'>\n",
      "RangeIndex: 1338 entries, 0 to 1337\n",
      "Data columns (total 7 columns):\n",
      " #   Column    Non-Null Count  Dtype  \n",
      "---  ------    --------------  -----  \n",
      " 0   age       1338 non-null   int64  \n",
      " 1   sex       1338 non-null   object \n",
      " 2   bmi       1338 non-null   float64\n",
      " 3   children  1338 non-null   int64  \n",
      " 4   smoker    1338 non-null   object \n",
      " 5   region    1338 non-null   object \n",
      " 6   charges   1338 non-null   float64\n",
      "dtypes: float64(2), int64(2), object(3)\n",
      "memory usage: 73.3+ KB\n"
     ]
    }
   ],
   "source": [
    "data.info()"
   ]
  },
  {
   "cell_type": "code",
   "execution_count": 5,
   "metadata": {},
   "outputs": [
    {
     "data": {
      "text/html": [
       "<div>\n",
       "<style scoped>\n",
       "    .dataframe tbody tr th:only-of-type {\n",
       "        vertical-align: middle;\n",
       "    }\n",
       "\n",
       "    .dataframe tbody tr th {\n",
       "        vertical-align: top;\n",
       "    }\n",
       "\n",
       "    .dataframe thead th {\n",
       "        text-align: right;\n",
       "    }\n",
       "</style>\n",
       "<table border=\"1\" class=\"dataframe\">\n",
       "  <thead>\n",
       "    <tr style=\"text-align: right;\">\n",
       "      <th></th>\n",
       "      <th>age</th>\n",
       "      <th>bmi</th>\n",
       "      <th>children</th>\n",
       "      <th>charges</th>\n",
       "    </tr>\n",
       "  </thead>\n",
       "  <tbody>\n",
       "    <tr>\n",
       "      <th>count</th>\n",
       "      <td>1338.000000</td>\n",
       "      <td>1338.000000</td>\n",
       "      <td>1338.000000</td>\n",
       "      <td>1338.000000</td>\n",
       "    </tr>\n",
       "    <tr>\n",
       "      <th>mean</th>\n",
       "      <td>39.207025</td>\n",
       "      <td>30.663397</td>\n",
       "      <td>1.094918</td>\n",
       "      <td>13270.422265</td>\n",
       "    </tr>\n",
       "    <tr>\n",
       "      <th>std</th>\n",
       "      <td>14.049960</td>\n",
       "      <td>6.098187</td>\n",
       "      <td>1.205493</td>\n",
       "      <td>12110.011237</td>\n",
       "    </tr>\n",
       "    <tr>\n",
       "      <th>min</th>\n",
       "      <td>18.000000</td>\n",
       "      <td>15.960000</td>\n",
       "      <td>0.000000</td>\n",
       "      <td>1121.873900</td>\n",
       "    </tr>\n",
       "    <tr>\n",
       "      <th>25%</th>\n",
       "      <td>27.000000</td>\n",
       "      <td>26.296250</td>\n",
       "      <td>0.000000</td>\n",
       "      <td>4740.287150</td>\n",
       "    </tr>\n",
       "    <tr>\n",
       "      <th>50%</th>\n",
       "      <td>39.000000</td>\n",
       "      <td>30.400000</td>\n",
       "      <td>1.000000</td>\n",
       "      <td>9382.033000</td>\n",
       "    </tr>\n",
       "    <tr>\n",
       "      <th>75%</th>\n",
       "      <td>51.000000</td>\n",
       "      <td>34.693750</td>\n",
       "      <td>2.000000</td>\n",
       "      <td>16639.912515</td>\n",
       "    </tr>\n",
       "    <tr>\n",
       "      <th>max</th>\n",
       "      <td>64.000000</td>\n",
       "      <td>53.130000</td>\n",
       "      <td>5.000000</td>\n",
       "      <td>63770.428010</td>\n",
       "    </tr>\n",
       "  </tbody>\n",
       "</table>\n",
       "</div>"
      ],
      "text/plain": [
       "               age          bmi     children       charges\n",
       "count  1338.000000  1338.000000  1338.000000   1338.000000\n",
       "mean     39.207025    30.663397     1.094918  13270.422265\n",
       "std      14.049960     6.098187     1.205493  12110.011237\n",
       "min      18.000000    15.960000     0.000000   1121.873900\n",
       "25%      27.000000    26.296250     0.000000   4740.287150\n",
       "50%      39.000000    30.400000     1.000000   9382.033000\n",
       "75%      51.000000    34.693750     2.000000  16639.912515\n",
       "max      64.000000    53.130000     5.000000  63770.428010"
      ]
     },
     "execution_count": 5,
     "metadata": {},
     "output_type": "execute_result"
    }
   ],
   "source": [
    "data.describe()"
   ]
  },
  {
   "cell_type": "code",
   "execution_count": 6,
   "metadata": {},
   "outputs": [
    {
     "data": {
      "text/plain": [
       "Text(0.5, 1.0, 'Age Distribution')"
      ]
     },
     "execution_count": 6,
     "metadata": {},
     "output_type": "execute_result"
    },
    {
     "data": {
      "image/png": "[encoded data removed]",
      "text/plain": [
       "<Figure size 864x720 with 1 Axes>"
      ]
     },
     "metadata": {
      "needs_background": "light"
     },
     "output_type": "display_data"
    }
   ],
   "source": [
    "plt.figure(figsize = (12, 10))\n",
    "sns.distplot(data['age'])\n",
    "plt.title(\"Age Distribution\")"
   ]
  },
  {
   "cell_type": "code",
   "execution_count": 7,
   "metadata": {},
   "outputs": [
    {
     "data": {
      "text/plain": [
       "Text(0.5, 1.0, 'Bmi Distribution')"
      ]
     },
     "execution_count": 7,
     "metadata": {},
     "output_type": "execute_result"
    },
    {
     "data": {
      "image/png": "[encoded data removed]",
      "text/plain": [
       "<Figure size 864x720 with 1 Axes>"
      ]
     },
     "metadata": {
      "needs_background": "light"
     },
     "output_type": "display_data"
    }
   ],
   "source": [
    "plt.figure(figsize = (12, 10))\n",
    "sns.distplot(data['bmi'])\n",
    "plt.title(\"Bmi Distribution\")"
   ]
  },
  {
   "cell_type": "code",
   "execution_count": 8,
   "metadata": {},
   "outputs": [
    {
     "data": {
      "image/png": "[encoded data removed]",
      "text/plain": [
       "<Figure size 432x432 with 1 Axes>"
      ]
     },
     "metadata": {},
     "output_type": "display_data"
    }
   ],
   "source": [
    "sns.set()\n",
    "plt.figure(figsize=(6,6))\n",
    "sns.countplot(data['children'])\n",
    "plt.title('Children')\n",
    "plt.show()"
   ]
  },
  {
   "cell_type": "code",
   "execution_count": 9,
   "metadata": {},
   "outputs": [
    {
     "data": {
      "text/plain": [
       "Text(0.5, 1.0, 'Charges Distribution')"
      ]
     },
     "execution_count": 9,
     "metadata": {},
     "output_type": "execute_result"
    },
    {
     "data": {
      "image/png": "[encoded data removed]",
      "text/plain": [
       "<Figure size 864x720 with 1 Axes>"
      ]
     },
     "metadata": {},
     "output_type": "display_data"
    }
   ],
   "source": [
    "\n",
    "plt.figure(figsize = (12, 10))\n",
    "sns.distplot(data['charges'])\n",
    "plt.title(\"Charges Distribution\")"
   ]
  },
  {
   "cell_type": "code",
   "execution_count": 10,
   "metadata": {},
   "outputs": [
    {
     "data": {
      "image/png": "[encoded data removed]",
      "text/plain": [
       "<Figure size 432x432 with 1 Axes>"
      ]
     },
     "metadata": {},
     "output_type": "display_data"
    }
   ],
   "source": [
    "sns.set()\n",
    "plt.figure(figsize=(6,6))\n",
    "sns.countplot(data['smoker'])\n",
    "plt.title('Smoker')\n",
    "plt.show()"
   ]
  },
  {
   "cell_type": "code",
   "execution_count": 11,
   "metadata": {},
   "outputs": [
    {
     "data": {
      "image/png": "[encoded data removed]",
      "text/plain": [
       "<Figure size 432x432 with 1 Axes>"
      ]
     },
     "metadata": {},
     "output_type": "display_data"
    }
   ],
   "source": [
    "sns.set()\n",
    "plt.figure(figsize=(6,6))\n",
    "sns.countplot(data['sex'])\n",
    "plt.title('Sex')\n",
    "plt.show()"
   ]
  },
  {
   "cell_type": "code",
   "execution_count": 12,
   "metadata": {},
   "outputs": [
    {
     "data": {
      "text/plain": [
       "<AxesSubplot:xlabel='age', ylabel='charges'>"
      ]
     },
     "execution_count": 12,
     "metadata": {},
     "output_type": "execute_result"
    },
    {
     "data": {
      "image/png": "[encoded data removed]",
      "text/plain": [
       "<Figure size 432x288 with 1 Axes>"
      ]
     },
     "metadata": {},
     "output_type": "display_data"
    }
   ],
   "source": [
    "sns.scatterplot(data = data, x = 'age', y = 'charges', hue = 'smoker')"
   ]
  },
  {
   "cell_type": "markdown",
   "metadata": {},
   "source": [
    "This shows that,the charges increases with age, the older a person is, the higher their insurance. Hence, a 60 year old will pay higher insurance charges than a 20 year old. The graph also shows that, smokers generally have a higher insurance charge than non-smokers."
   ]
  },
  {
   "cell_type": "markdown",
   "metadata": {},
   "source": [
    "# Missing Values"
   ]
  },
  {
   "cell_type": "code",
   "execution_count": 13,
   "metadata": {},
   "outputs": [
    {
     "data": {
      "text/plain": [
       "age         0\n",
       "sex         0\n",
       "bmi         0\n",
       "children    0\n",
       "smoker      0\n",
       "region      0\n",
       "charges     0\n",
       "dtype: int64"
      ]
     },
     "execution_count": 13,
     "metadata": {},
     "output_type": "execute_result"
    }
   ],
   "source": [
    "data.isnull().sum()"
   ]
  },
  {
   "cell_type": "markdown",
   "metadata": {},
   "source": [
    "There are no missing figures in the data"
   ]
  },
  {
   "cell_type": "markdown",
   "metadata": {},
   "source": [
    "# BOOLEAN DATA"
   ]
  },
  {
   "cell_type": "markdown",
   "metadata": {},
   "source": [
    "We will have to use onehot encoding to be able to get dummy variables for the model."
   ]
  },
  {
   "cell_type": "code",
   "execution_count": 14,
   "metadata": {},
   "outputs": [],
   "source": [
    "data.replace({'sex':{'male':0, 'female':1}}, inplace=True)"
   ]
  },
  {
   "cell_type": "code",
   "execution_count": 15,
   "metadata": {},
   "outputs": [],
   "source": [
    "data.replace({'smoker':{'yes':0, 'no':1}}, inplace=True)"
   ]
  },
  {
   "cell_type": "code",
   "execution_count": 16,
   "metadata": {},
   "outputs": [],
   "source": [
    "data.replace({'region':{'southeast':0, 'southwest':1, 'northeast':2, 'northwest':3}}, inplace=True)"
   ]
  },
  {
   "cell_type": "code",
   "execution_count": 17,
   "metadata": {},
   "outputs": [
    {
     "data": {
      "text/html": [
       "<div>\n",
       "<style scoped>\n",
       "    .dataframe tbody tr th:only-of-type {\n",
       "        vertical-align: middle;\n",
       "    }\n",
       "\n",
       "    .dataframe tbody tr th {\n",
       "        vertical-align: top;\n",
       "    }\n",
       "\n",
       "    .dataframe thead th {\n",
       "        text-align: right;\n",
       "    }\n",
       "</style>\n",
       "<table border=\"1\" class=\"dataframe\">\n",
       "  <thead>\n",
       "    <tr style=\"text-align: right;\">\n",
       "      <th></th>\n",
       "      <th>age</th>\n",
       "      <th>sex</th>\n",
       "      <th>bmi</th>\n",
       "      <th>children</th>\n",
       "      <th>smoker</th>\n",
       "      <th>region</th>\n",
       "      <th>charges</th>\n",
       "    </tr>\n",
       "  </thead>\n",
       "  <tbody>\n",
       "    <tr>\n",
       "      <th>0</th>\n",
       "      <td>19</td>\n",
       "      <td>1</td>\n",
       "      <td>27.900</td>\n",
       "      <td>0</td>\n",
       "      <td>0</td>\n",
       "      <td>1</td>\n",
       "      <td>16884.92400</td>\n",
       "    </tr>\n",
       "    <tr>\n",
       "      <th>1</th>\n",
       "      <td>18</td>\n",
       "      <td>0</td>\n",
       "      <td>33.770</td>\n",
       "      <td>1</td>\n",
       "      <td>1</td>\n",
       "      <td>0</td>\n",
       "      <td>1725.55230</td>\n",
       "    </tr>\n",
       "    <tr>\n",
       "      <th>2</th>\n",
       "      <td>28</td>\n",
       "      <td>0</td>\n",
       "      <td>33.000</td>\n",
       "      <td>3</td>\n",
       "      <td>1</td>\n",
       "      <td>0</td>\n",
       "      <td>4449.46200</td>\n",
       "    </tr>\n",
       "    <tr>\n",
       "      <th>3</th>\n",
       "      <td>33</td>\n",
       "      <td>0</td>\n",
       "      <td>22.705</td>\n",
       "      <td>0</td>\n",
       "      <td>1</td>\n",
       "      <td>3</td>\n",
       "      <td>21984.47061</td>\n",
       "    </tr>\n",
       "    <tr>\n",
       "      <th>4</th>\n",
       "      <td>32</td>\n",
       "      <td>0</td>\n",
       "      <td>28.880</td>\n",
       "      <td>0</td>\n",
       "      <td>1</td>\n",
       "      <td>3</td>\n",
       "      <td>3866.85520</td>\n",
       "    </tr>\n",
       "  </tbody>\n",
       "</table>\n",
       "</div>"
      ],
      "text/plain": [
       "   age  sex     bmi  children  smoker  region      charges\n",
       "0   19    1  27.900         0       0       1  16884.92400\n",
       "1   18    0  33.770         1       1       0   1725.55230\n",
       "2   28    0  33.000         3       1       0   4449.46200\n",
       "3   33    0  22.705         0       1       3  21984.47061\n",
       "4   32    0  28.880         0       1       3   3866.85520"
      ]
     },
     "execution_count": 17,
     "metadata": {},
     "output_type": "execute_result"
    }
   ],
   "source": [
    "data.head()"
   ]
  },
  {
   "cell_type": "markdown",
   "metadata": {},
   "source": [
    "# MODEL"
   ]
  },
  {
   "cell_type": "markdown",
   "metadata": {},
   "source": [
    "# Linear Regression"
   ]
  },
  {
   "cell_type": "code",
   "execution_count": 18,
   "metadata": {},
   "outputs": [],
   "source": [
    "x = data.drop('charges', axis='columns')\n",
    "y = data['charges']"
   ]
  },
  {
   "cell_type": "code",
   "execution_count": 19,
   "metadata": {},
   "outputs": [
    {
     "name": "stdout",
     "output_type": "stream",
     "text": [
      "      age  sex     bmi  children  smoker  region\n",
      "0      19    1  27.900         0       0       1\n",
      "1      18    0  33.770         1       1       0\n",
      "2      28    0  33.000         3       1       0\n",
      "3      33    0  22.705         0       1       3\n",
      "4      32    0  28.880         0       1       3\n",
      "...   ...  ...     ...       ...     ...     ...\n",
      "1333   50    0  30.970         3       1       3\n",
      "1334   18    1  31.920         0       1       2\n",
      "1335   18    1  36.850         0       1       0\n",
      "1336   21    1  25.800         0       1       1\n",
      "1337   61    1  29.070         0       0       3\n",
      "\n",
      "[1338 rows x 6 columns]\n"
     ]
    }
   ],
   "source": [
    "print(x)"
   ]
  },
  {
   "cell_type": "code",
   "execution_count": 20,
   "metadata": {},
   "outputs": [
    {
     "name": "stdout",
     "output_type": "stream",
     "text": [
      "0       16884.92400\n",
      "1        1725.55230\n",
      "2        4449.46200\n",
      "3       21984.47061\n",
      "4        3866.85520\n",
      "           ...     \n",
      "1333    10600.54830\n",
      "1334     2205.98080\n",
      "1335     1629.83350\n",
      "1336     2007.94500\n",
      "1337    29141.36030\n",
      "Name: charges, Length: 1338, dtype: float64\n"
     ]
    }
   ],
   "source": [
    "print(y)"
   ]
  },
  {
   "cell_type": "code",
   "execution_count": 21,
   "metadata": {},
   "outputs": [],
   "source": [
    "#split the data into 80% training and 20% testing data\n",
    "x_train, x_test, y_train, y_test = train_test_split(x,y, test_size=0.2,random_state=42)"
   ]
  },
  {
   "cell_type": "code",
   "execution_count": 22,
   "metadata": {},
   "outputs": [
    {
     "name": "stdout",
     "output_type": "stream",
     "text": [
      "(1338, 6) (1070, 6) (268, 6)\n"
     ]
    }
   ],
   "source": [
    "print(x.shape, x_train.shape, x_test.shape)"
   ]
  },
  {
   "cell_type": "code",
   "execution_count": 23,
   "metadata": {},
   "outputs": [],
   "source": [
    "#initialize the linear regression model\n",
    "reg = linear_model.LinearRegression()"
   ]
  },
  {
   "cell_type": "code",
   "execution_count": 24,
   "metadata": {},
   "outputs": [
    {
     "data": {
      "text/plain": [
       "LinearRegression()"
      ]
     },
     "execution_count": 24,
     "metadata": {},
     "output_type": "execute_result"
    }
   ],
   "source": [
    "#train the model\n",
    "reg.fit(x_train, y_train)"
   ]
  },
  {
   "cell_type": "code",
   "execution_count": 25,
   "metadata": {},
   "outputs": [
    {
     "name": "stdout",
     "output_type": "stream",
     "text": [
      "[ 8597.28489536  7231.74388195 37039.23208958  9616.21212862\n",
      " 27161.15504663 11108.40935815   354.21613174 17042.35421504\n",
      "   747.16617118 11372.94571472 28400.38875084  9533.99600035\n",
      "  5216.48749305 38355.5614174  40201.25019476 37046.88317993\n",
      " 15158.02888612 35867.31947109  9063.07424995 31650.09572393\n",
      "  4122.46955807 10389.18037453  2647.70215941  6752.0935722\n",
      " 11455.70143538 12576.55372408 14761.43409329  6317.33228079\n",
      "  9588.04741124  2138.14714947  9375.87714427 13225.72806329\n",
      "  4510.16138921  3585.45839256  4732.66994672 12637.34626748\n",
      "  2260.33231947  9078.92932601 33459.16411947 32548.1168527\n",
      "  4174.80105455  4490.15618578 14392.1262442  11588.95999023\n",
      "  8712.67197642 12363.57345011  5437.31098673  3428.38801627\n",
      " 35447.7739549   9084.07365487 15767.62103266  2302.7507234\n",
      " 12500.96481021  1124.34689348 13327.47845234 12187.16682473\n",
      "  3981.0147192  32336.2299135  13577.99152532 12510.93275623\n",
      " 14425.49476583 10429.58572973 16603.90251205  7929.54465618\n",
      " 11458.45482595  4232.50073885 26949.0106413  10878.03936063\n",
      "  2316.59667493  6466.95004224 10340.40600347 11241.46760378\n",
      " 10923.00355833  9109.74874092 11886.99679978  6700.82058085\n",
      "  6866.57715031 10899.8863105   6525.16573051  9030.03288056\n",
      "  3720.35365133 36279.3734876   6645.16609416 30475.94675857\n",
      " 34779.32328485 34918.90815332  6964.72244386 13013.68318366\n",
      " 10096.21593116 14718.44605366 17289.35609264 35236.62044469\n",
      " 32678.74784457  5815.07905008 31962.54288755  9741.89099498\n",
      " 29420.56438068  3626.90680902 28499.48632651  5458.01576302\n",
      "  5573.43830592  2162.19329808 11431.70351433 15320.77480594\n",
      " 11331.55868137  4256.35890371  9839.96847146 31696.25463607\n",
      "  -435.52378909 32799.50625541  3552.46066488 10105.99799901\n",
      " 13930.18089814 31284.49563801 11079.37140258  4198.20392768\n",
      " 12730.30610941 32101.74845203  8097.58496742  3409.74971337\n",
      "  8057.67476889 10743.69163173 14818.60296712  5594.64804541\n",
      "  3954.77793233 10378.81723778 10836.57431387 10743.89569415\n",
      " 14372.51355074  7365.35174791  5342.57363063  9169.36344257\n",
      "  9279.91834337 12145.13549128  8601.57751928 15580.49258065\n",
      "  8029.80318582 32088.5495174  35949.65140161 31249.73581906\n",
      "  6181.21872838 12220.52034273  5960.45700103 14697.90068266\n",
      "  2460.10466985 33255.7616295   6430.46651701  5308.71894128\n",
      " 14481.89329055  7209.84768909 38826.8130578   3258.92993482\n",
      "  5824.20031988 31327.12352289 11701.20686771  8095.42415366\n",
      " 14421.41872767  9762.02617162 27079.64000651 33093.6209926\n",
      " 14161.80362062  1859.20267673 13432.64654082  1866.29497502\n",
      "  5712.80642024 11501.48875956 40075.05785514 36675.38760135\n",
      " 33642.61172404  4171.08058527  7736.85918557  8923.67609231\n",
      " 12052.61588703  4985.2426097   2328.89758476 32090.41048447\n",
      " 25415.44186095 17407.81202583 26616.39618821 10328.82536709\n",
      " 36903.30883281  -785.75579932  6958.36686655  8042.66327753\n",
      "  4005.41410312  5266.43073199  5547.71667859  4582.95936019\n",
      " 15106.80326872 11294.64202328  7187.2276884   2160.1727043\n",
      "  1181.12684873 32222.0263351  16341.65296783 11950.90390393\n",
      "  1445.35943442 12148.4444933   1205.14983742  9011.76912481\n",
      "  2055.0926336  34101.76131993 10781.05629397  2774.04074878\n",
      " 25657.84253645 26331.24392676  9597.67107486  1978.13140067\n",
      " 13191.22177118  1410.29832487 10666.73874705 10522.11553034\n",
      " 16525.92746718 26831.55479852  6896.71865796  4825.83595664\n",
      "  5800.66327748 13170.73981414 11053.66751666  8304.38307195\n",
      "  5292.40649739 12451.02301518 13774.13354416 35725.49676141\n",
      "  4322.20165442 28892.94821254  -619.10136687  3042.97950176\n",
      " 10992.55677393 15597.8176291   5156.51620708  7070.03095938\n",
      "  4132.79160812 31607.96442454  7422.15878729 12342.03136128\n",
      "  5780.11516871  9789.94385573 36260.07713879  4381.04686059\n",
      "  9309.35854145 31440.69865845  5905.06541996  4557.1924645\n",
      "  1228.43605469  4998.52876812  4847.94372092  6775.06680819\n",
      " 18559.62707042 -1350.12568589  2653.38585923 10946.68955219\n",
      "  3433.0263665   9844.67983585  3896.58479274  5074.63808906\n",
      " 12666.70573534  6376.17893086  7870.04303996  7209.86396563\n",
      "  9080.45059654 10654.9774296  27788.53044212 39017.51863811\n",
      " 11922.48292194  7316.16692502 40853.40307079 12572.84534967]\n"
     ]
    }
   ],
   "source": [
    "y_pred = reg.predict(x_test)\n",
    "print(y_pred)"
   ]
  },
  {
   "cell_type": "code",
   "execution_count": 26,
   "metadata": {},
   "outputs": [
    {
     "name": "stdout",
     "output_type": "stream",
     "text": [
      "764      9095.06825\n",
      "887      5272.17580\n",
      "890     29330.98315\n",
      "1293     9301.89355\n",
      "259     33750.29180\n",
      "           ...     \n",
      "109     47055.53210\n",
      "575     12222.89830\n",
      "535      6067.12675\n",
      "543     63770.42801\n",
      "846      9872.70100\n",
      "Name: charges, Length: 268, dtype: float64\n"
     ]
    }
   ],
   "source": [
    "#print the actual values\n",
    "print(y_test)"
   ]
  },
  {
   "cell_type": "code",
   "execution_count": 27,
   "metadata": {},
   "outputs": [
    {
     "data": {
      "text/plain": [
       "0.7413131194887537"
      ]
     },
     "execution_count": 27,
     "metadata": {},
     "output_type": "execute_result"
    }
   ],
   "source": [
    "reg.score(x_train,y_train)"
   ]
  },
  {
   "cell_type": "code",
   "execution_count": 28,
   "metadata": {},
   "outputs": [],
   "source": [
    "#prediction\n",
    "training_data_pred = reg.predict(x_train)"
   ]
  },
  {
   "cell_type": "code",
   "execution_count": 29,
   "metadata": {},
   "outputs": [
    {
     "name": "stdout",
     "output_type": "stream",
     "text": [
      "R_squared value ; 0.7413131194887537\n"
     ]
    }
   ],
   "source": [
    "# R Squared value\n",
    "R2_train = metrics.r2_score(y_train,training_data_pred)\n",
    "print('R_squared value ;',R2_train )"
   ]
  },
  {
   "cell_type": "code",
   "execution_count": 30,
   "metadata": {},
   "outputs": [],
   "source": [
    "test_data_pred = reg.predict(x_test)"
   ]
  },
  {
   "cell_type": "code",
   "execution_count": 31,
   "metadata": {},
   "outputs": [
    {
     "name": "stdout",
     "output_type": "stream",
     "text": [
      "R_squared value ; 0.783021587162344\n"
     ]
    }
   ],
   "source": [
    "# R Squared value\n",
    "R2_test = metrics.r2_score(y_test,test_data_pred)\n",
    "print('R_squared value ;',R2_test )"
   ]
  },
  {
   "cell_type": "code",
   "execution_count": 32,
   "metadata": {},
   "outputs": [
    {
     "data": {
      "image/png": "[encoded data removed]",
      "text/plain": [
       "<Figure size 432x288 with 1 Axes>"
      ]
     },
     "metadata": {},
     "output_type": "display_data"
    }
   ],
   "source": [
    "fig, ax = plt.subplots()\n",
    "ax.scatter(y_test, test_data_pred, edgecolors=(0, 0, 0))\n",
    "ax.plot([y_test.min(), y_test.max()], [y_test.min(), y_test.max()], 'k--', lw=4)\n",
    "ax.set_xlabel('Actual')\n",
    "ax.set_ylabel('Predicted')\n",
    "ax.set_title(\"Actual Charges vs Predicted\")\n",
    "plt.show()"
   ]
  },
  {
   "cell_type": "code",
   "execution_count": 33,
   "metadata": {},
   "outputs": [
    {
     "data": {
      "text/html": [
       "<div>\n",
       "<style scoped>\n",
       "    .dataframe tbody tr th:only-of-type {\n",
       "        vertical-align: middle;\n",
       "    }\n",
       "\n",
       "    .dataframe tbody tr th {\n",
       "        vertical-align: top;\n",
       "    }\n",
       "\n",
       "    .dataframe thead th {\n",
       "        text-align: right;\n",
       "    }\n",
       "</style>\n",
       "<table border=\"1\" class=\"dataframe\">\n",
       "  <thead>\n",
       "    <tr style=\"text-align: right;\">\n",
       "      <th></th>\n",
       "      <th>age</th>\n",
       "      <th>sex</th>\n",
       "      <th>bmi</th>\n",
       "      <th>children</th>\n",
       "      <th>smoker</th>\n",
       "      <th>region</th>\n",
       "      <th>charges</th>\n",
       "    </tr>\n",
       "  </thead>\n",
       "  <tbody>\n",
       "    <tr>\n",
       "      <th>0</th>\n",
       "      <td>19</td>\n",
       "      <td>1</td>\n",
       "      <td>27.900</td>\n",
       "      <td>0</td>\n",
       "      <td>0</td>\n",
       "      <td>1</td>\n",
       "      <td>16884.92400</td>\n",
       "    </tr>\n",
       "    <tr>\n",
       "      <th>1</th>\n",
       "      <td>18</td>\n",
       "      <td>0</td>\n",
       "      <td>33.770</td>\n",
       "      <td>1</td>\n",
       "      <td>1</td>\n",
       "      <td>0</td>\n",
       "      <td>1725.55230</td>\n",
       "    </tr>\n",
       "    <tr>\n",
       "      <th>2</th>\n",
       "      <td>28</td>\n",
       "      <td>0</td>\n",
       "      <td>33.000</td>\n",
       "      <td>3</td>\n",
       "      <td>1</td>\n",
       "      <td>0</td>\n",
       "      <td>4449.46200</td>\n",
       "    </tr>\n",
       "    <tr>\n",
       "      <th>3</th>\n",
       "      <td>33</td>\n",
       "      <td>0</td>\n",
       "      <td>22.705</td>\n",
       "      <td>0</td>\n",
       "      <td>1</td>\n",
       "      <td>3</td>\n",
       "      <td>21984.47061</td>\n",
       "    </tr>\n",
       "    <tr>\n",
       "      <th>4</th>\n",
       "      <td>32</td>\n",
       "      <td>0</td>\n",
       "      <td>28.880</td>\n",
       "      <td>0</td>\n",
       "      <td>1</td>\n",
       "      <td>3</td>\n",
       "      <td>3866.85520</td>\n",
       "    </tr>\n",
       "  </tbody>\n",
       "</table>\n",
       "</div>"
      ],
      "text/plain": [
       "   age  sex     bmi  children  smoker  region      charges\n",
       "0   19    1  27.900         0       0       1  16884.92400\n",
       "1   18    0  33.770         1       1       0   1725.55230\n",
       "2   28    0  33.000         3       1       0   4449.46200\n",
       "3   33    0  22.705         0       1       3  21984.47061\n",
       "4   32    0  28.880         0       1       3   3866.85520"
      ]
     },
     "execution_count": 33,
     "metadata": {},
     "output_type": "execute_result"
    }
   ],
   "source": [
    "data.head()"
   ]
  },
  {
   "cell_type": "markdown",
   "metadata": {},
   "source": [
    "# RANDOM FOREST REGRESSION"
   ]
  },
  {
   "cell_type": "code",
   "execution_count": 34,
   "metadata": {},
   "outputs": [
    {
     "name": "stdout",
     "output_type": "stream",
     "text": [
      "[[19.    1.   27.9   0.    0.    1.  ]\n",
      " [18.    0.   33.77  1.    1.    0.  ]\n",
      " [28.    0.   33.    3.    1.    0.  ]\n",
      " ...\n",
      " [18.    1.   36.85  0.    1.    0.  ]\n",
      " [21.    1.   25.8   0.    1.    1.  ]\n",
      " [61.    1.   29.07  0.    0.    3.  ]]\n"
     ]
    }
   ],
   "source": [
    "x = data.iloc[:, 0:6].values\n",
    "print(x)\n",
    "y = data.iloc[:, 6].values"
   ]
  },
  {
   "cell_type": "code",
   "execution_count": 35,
   "metadata": {},
   "outputs": [],
   "source": [
    "#split the data into 80% training and 20% testing data\n",
    "x_train, x_test, y_train, y_test = train_test_split(x,y, test_size=0.2,random_state=0)"
   ]
  },
  {
   "cell_type": "code",
   "execution_count": 36,
   "metadata": {},
   "outputs": [
    {
     "name": "stdout",
     "output_type": "stream",
     "text": [
      "[16884.924   1725.5523  4449.462  ...  1629.8335  2007.945  29141.3603]\n"
     ]
    }
   ],
   "source": [
    "print(y)"
   ]
  },
  {
   "cell_type": "code",
   "execution_count": 37,
   "metadata": {},
   "outputs": [],
   "source": [
    "from sklearn.ensemble import RandomForestRegressor"
   ]
  },
  {
   "cell_type": "code",
   "execution_count": 38,
   "metadata": {},
   "outputs": [],
   "source": [
    "regressor = RandomForestRegressor(n_estimators = 100, random_state = 0)"
   ]
  },
  {
   "cell_type": "code",
   "execution_count": 39,
   "metadata": {},
   "outputs": [
    {
     "data": {
      "text/plain": [
       "RandomForestRegressor(random_state=0)"
      ]
     },
     "execution_count": 39,
     "metadata": {},
     "output_type": "execute_result"
    }
   ],
   "source": [
    "regressor.fit(x, y)  "
   ]
  },
  {
   "cell_type": "code",
   "execution_count": 40,
   "metadata": {},
   "outputs": [
    {
     "name": "stdout",
     "output_type": "stream",
     "text": [
      "[10059.7043221   9030.7713244  45357.6049099  13035.4139695\n",
      "  9548.8701625   7034.5023999   2229.74347319 11786.2026314\n",
      "  7593.204       5627.374568    8631.7176359  12410.5738348\n",
      "  8063.7204226   5494.7351035  21077.9843515  12441.8894298\n",
      " 13437.8310184   4869.2532642   6634.572797   33517.824556\n",
      " 23936.6923365  12608.0001995  18176.2248872  25019.0199466\n",
      "  2486.8642835   4895.3465      3990.0673254   8017.8512384\n",
      "  3874.6811891   9340.2321356   8024.5215263  48757.8915805\n",
      " 13154.1890115  17286.0706203  15416.9671682   4086.8488357\n",
      "  8423.7907915  46340.1861298  40055.405593    3549.6308974\n",
      "  6081.7011881   3102.2230366  20430.797216   47897.0819196\n",
      " 36452.9202765  18715.6312479  16691.1612456   6914.333985\n",
      "  4804.0061949  19170.6013163   3629.1588376  17690.9130405\n",
      " 24720.404709   46868.4699162  20392.481421    4825.9438458\n",
      "  2421.769571    9916.6707457  12831.7673606  14688.7212033\n",
      "  1306.6938185  46785.7288338  14982.2291786  11133.4857958\n",
      " 13088.9846241   9891.579848   33028.2207285  39283.503397\n",
      "  3751.6893386   9197.0815669  14940.4490239  13055.5557466\n",
      " 16443.9021795  13980.4890401  14627.9073319  14561.1108719\n",
      "  8404.3919357   8126.4648829  20322.8261195  47640.7551524\n",
      " 11632.540296   46199.7692794   2330.5383847   7879.3491644\n",
      " 40893.275347   19092.5486005   3861.1481031   2880.600964\n",
      " 12757.5039776  37209.0077795   6515.4744995  11105.2852453\n",
      " 13130.5867164   8696.52503     5238.9130541   5649.3182746\n",
      " 42467.2528235  43273.0901249   5843.1032579  11440.0840612\n",
      "  2410.2158881   5499.1535548   5398.346053   37534.793681\n",
      " 30545.4335668   3542.505148   10778.4578405   5889.5163824\n",
      " 11845.422231   50307.1894344  12560.2667989   4619.4452979\n",
      "  9386.9729746  33955.1670605  47918.757785    7581.9060554\n",
      "  1979.415976    9216.9830721  16394.4953696  10564.9941559\n",
      " 41999.7487369  10834.6792235  14274.139215    6480.7946076\n",
      "  8277.4287587   5095.7261735  25004.6517892  24036.5147889\n",
      " 48377.9896714   1897.6720505  10052.6509059   2675.1036895\n",
      "  5928.629371    9478.5081864  30479.8173608  36312.9446545\n",
      " 21077.6230489  10690.3301638  23372.7852197   4598.7579852\n",
      "  2267.337971   11251.2572764   9328.6344515  10878.8083939\n",
      "  5671.0274694  14234.335767   23721.0278944  12370.0898927\n",
      "  1628.4329695  19806.3559104   6408.2395905  39666.8769378\n",
      " 11099.3969214   2526.9535815   3689.8370231   7041.7420315\n",
      "  2673.8229384   1898.98038157 11307.1134238  11246.2109673\n",
      "  6833.7289571  13052.233403   24433.2294208   9330.379184\n",
      "  4489.3178306  14444.2662466  14504.6696221   7295.0581799\n",
      "  4494.1765557   1758.0396365   6573.4207124   4896.6178662\n",
      "  9203.4745027   2259.7226634   4518.3735145   5188.5218454\n",
      "  4870.9740519   6784.5831402  29350.6306765   1714.5631375\n",
      " 13293.4038207   6876.0305565  11396.4352035   2854.0980026\n",
      " 19652.5343208  28362.5355915   2186.120236    2588.4947092\n",
      " 14642.7304662  10863.9519717  41433.5550344   3991.8225585\n",
      "  5424.0860704  22489.9175585   2930.8312617   2210.4485417\n",
      "  7533.0552001   7017.657297    4429.125048    4304.319469\n",
      " 11847.730021   47129.0606727  12599.2274092  19283.1272527\n",
      "  5077.671171   42915.8879491  17959.7295116  11776.7708815\n",
      "  5749.730695    1171.12209     9356.9723578  13876.3915575\n",
      "  5472.240211    8843.5710714   6420.390316    3860.148038\n",
      "  6641.241833    6823.9665523  14018.4336506   7081.9839855\n",
      "  6494.4196359   7943.2218178   9638.7479653   3594.7788959\n",
      " 12201.6556651  14400.0017112  15085.1037309  11948.6031318\n",
      "  7610.2614587   2421.6544294   2961.46205213  8548.1330571\n",
      " 13435.688254    6634.1363828  12323.0318428   6902.106636\n",
      " 11235.3700809  34268.5432575   6294.541175   12868.4238958\n",
      "  6063.6059085  37714.328592    7517.2299528   7525.2725514\n",
      "  9746.2251999  11772.2044998   4511.9393626   8188.6244618\n",
      "  2641.42917     6942.0485719  19424.741242   47263.455414\n",
      "  3949.733424    4245.5016739   6721.53371931  1703.270641\n",
      "  7479.945021    1947.23278283  7543.6325208   6044.870294\n",
      "  8584.0613035  24604.0777497  46505.8911409  15783.3944808\n",
      "  6680.958798   17430.1064852  41403.3823703  10026.1880875 ]\n"
     ]
    }
   ],
   "source": [
    "y_pred = regressor.predict(x_test)\n",
    "print(y_pred)"
   ]
  },
  {
   "cell_type": "code",
   "execution_count": 41,
   "metadata": {},
   "outputs": [
    {
     "name": "stdout",
     "output_type": "stream",
     "text": [
      "[ 9724.53      8547.6913   45702.02235  12950.0712    9644.2525\n",
      "  4500.33925   2198.18985  11436.73815   7537.1639    5425.02335\n",
      "  6753.038    10493.9458    7337.748     4185.0979   18310.742\n",
      " 10702.6424   12523.6048    3490.5491    6457.8434   33475.81715\n",
      " 23967.38305  12643.3778   23045.56616  23065.4207    1674.6323\n",
      "  4667.60765   3732.6251    7682.67      3756.6216    8413.46305\n",
      "  8059.6791   48970.2476   12979.358    20630.28351  14571.8908\n",
      "  4137.5227    8347.1643   51194.55914  40003.33225   1880.487\n",
      "  5458.04645   2867.1196   20149.3229   47496.49445  36149.4835\n",
      " 26018.95052  19749.38338   6940.90985   4718.20355  22192.43711\n",
      "  2899.48935  18838.70366  23568.272    46255.1125   24227.33724\n",
      "  3268.84665   2322.6218    8827.2099   14478.33015  13112.6048\n",
      "  1253.936    46718.16325  13919.8229    9630.397    10736.87075\n",
      "  9880.068    32548.3405   38746.3551    3180.5101    8162.71625\n",
      " 13041.921    11554.2236   16232.847    13887.9685   13012.20865\n",
      " 13217.0945    7147.105     7731.4271   20296.86345  47403.88\n",
      " 11658.37915  45863.205     2055.3249    7441.053    41034.2214\n",
      " 18972.495     3410.324     2699.56835  12333.828    36837.467\n",
      "  6334.34355  10214.636    17878.90068   8515.7587    4518.82625\n",
      "  5148.5526   42303.69215  38998.546     5327.40025  10602.385\n",
      "  1824.2854    5377.4578    4349.462    37742.5757   32787.45859\n",
      "  3353.4703   10577.087     3556.9223   11944.59435  52590.82939\n",
      " 12475.3513    4266.1658    9249.4952   33732.6867   48675.5177\n",
      "  7729.64575   1964.78      8444.474    12347.172     9301.89355\n",
      " 42124.5153    9991.03765  14319.031     5428.7277    7626.993\n",
      "  4906.40965  23401.30575  21098.55405  48173.361     1917.3184\n",
      "  8219.2039    1725.5523    5976.8311    9361.3268   22144.032\n",
      " 35491.64     19515.5416   10107.2206   23244.7902    2789.0574\n",
      "  2261.5688   10594.50155   9304.7019   10435.06525   4894.7533\n",
      " 14313.8463   28287.89766  14426.07385   1627.28245  25517.11363\n",
      "  6555.07035  39611.7577    9964.06      1720.3537    2730.10785\n",
      "  6500.2359    2643.2685    1719.4363   11085.5868   10115.00885\n",
      "  4846.92015  12982.8747   28923.13692   9391.346     4544.2348\n",
      " 17128.42608  13844.506     6113.23105   4441.21315   1633.9618\n",
      "  4058.71245   4435.0942    8310.83915   1986.9334    4260.744\n",
      "  4504.6624    4428.88785   6117.4945   30184.9367    1708.92575\n",
      " 11187.6567    6796.86325  11356.6609    2498.4144   27375.90478\n",
      " 28101.33305   2254.7967    2597.779    14692.66935  10370.91255\n",
      " 41097.16175   3981.9768    5472.449    21223.6758    2534.39375\n",
      "  1972.95      6406.4107    6551.7501    4058.1161    4243.59005\n",
      " 11512.405    46889.2612   12268.63225  19199.944     4433.3877\n",
      " 42969.8527   23241.47453   9140.951     5836.5204    1149.3959\n",
      "  8765.249    14043.4767    5312.16985  10795.93733   6282.235\n",
      "  1969.614     6746.7425    5354.07465  14001.2867    6877.9801\n",
      "  6196.448     7986.47525   8277.523     3206.49135  11848.141\n",
      " 14210.53595  12265.5069   11837.16      6652.5288    2137.6536\n",
      "  1131.5066    8342.90875  12244.531     4561.1885   17626.23951\n",
      "  6875.961     9447.3824   34254.05335   6067.12675  11729.6795\n",
      "  5383.536    37465.34375   7371.772     7325.0482    8410.04685\n",
      " 10461.9794    3279.86855   7727.2532    2731.9122    6858.4796\n",
      " 19521.9682   47305.305     3987.926     3238.4357    7323.734819\n",
      "  1704.5681    7445.918     1629.8335    4877.98105   3561.8889\n",
      "  8605.3615   24520.264    45710.20785  15019.76005   6664.68595\n",
      " 20709.02034  40932.4295    9500.57305 ]\n"
     ]
    }
   ],
   "source": [
    "#print the actual values\n",
    "print(y_test)"
   ]
  },
  {
   "cell_type": "code",
   "execution_count": 42,
   "metadata": {},
   "outputs": [
    {
     "data": {
      "text/plain": [
       "0.9764302745989842"
      ]
     },
     "execution_count": 42,
     "metadata": {},
     "output_type": "execute_result"
    }
   ],
   "source": [
    "regressor.score(x,y)"
   ]
  },
  {
   "cell_type": "code",
   "execution_count": 43,
   "metadata": {},
   "outputs": [
    {
     "data": {
      "text/html": [
       "<div>\n",
       "<style scoped>\n",
       "    .dataframe tbody tr th:only-of-type {\n",
       "        vertical-align: middle;\n",
       "    }\n",
       "\n",
       "    .dataframe tbody tr th {\n",
       "        vertical-align: top;\n",
       "    }\n",
       "\n",
       "    .dataframe thead th {\n",
       "        text-align: right;\n",
       "    }\n",
       "</style>\n",
       "<table border=\"1\" class=\"dataframe\">\n",
       "  <thead>\n",
       "    <tr style=\"text-align: right;\">\n",
       "      <th></th>\n",
       "      <th>age</th>\n",
       "      <th>sex</th>\n",
       "      <th>bmi</th>\n",
       "      <th>children</th>\n",
       "      <th>smoker</th>\n",
       "      <th>region</th>\n",
       "      <th>charges</th>\n",
       "    </tr>\n",
       "  </thead>\n",
       "  <tbody>\n",
       "    <tr>\n",
       "      <th>0</th>\n",
       "      <td>19</td>\n",
       "      <td>1</td>\n",
       "      <td>27.900</td>\n",
       "      <td>0</td>\n",
       "      <td>0</td>\n",
       "      <td>1</td>\n",
       "      <td>16884.92400</td>\n",
       "    </tr>\n",
       "    <tr>\n",
       "      <th>1</th>\n",
       "      <td>18</td>\n",
       "      <td>0</td>\n",
       "      <td>33.770</td>\n",
       "      <td>1</td>\n",
       "      <td>1</td>\n",
       "      <td>0</td>\n",
       "      <td>1725.55230</td>\n",
       "    </tr>\n",
       "    <tr>\n",
       "      <th>2</th>\n",
       "      <td>28</td>\n",
       "      <td>0</td>\n",
       "      <td>33.000</td>\n",
       "      <td>3</td>\n",
       "      <td>1</td>\n",
       "      <td>0</td>\n",
       "      <td>4449.46200</td>\n",
       "    </tr>\n",
       "    <tr>\n",
       "      <th>3</th>\n",
       "      <td>33</td>\n",
       "      <td>0</td>\n",
       "      <td>22.705</td>\n",
       "      <td>0</td>\n",
       "      <td>1</td>\n",
       "      <td>3</td>\n",
       "      <td>21984.47061</td>\n",
       "    </tr>\n",
       "    <tr>\n",
       "      <th>4</th>\n",
       "      <td>32</td>\n",
       "      <td>0</td>\n",
       "      <td>28.880</td>\n",
       "      <td>0</td>\n",
       "      <td>1</td>\n",
       "      <td>3</td>\n",
       "      <td>3866.85520</td>\n",
       "    </tr>\n",
       "    <tr>\n",
       "      <th>5</th>\n",
       "      <td>31</td>\n",
       "      <td>1</td>\n",
       "      <td>25.740</td>\n",
       "      <td>0</td>\n",
       "      <td>1</td>\n",
       "      <td>0</td>\n",
       "      <td>3756.62160</td>\n",
       "    </tr>\n",
       "    <tr>\n",
       "      <th>6</th>\n",
       "      <td>46</td>\n",
       "      <td>1</td>\n",
       "      <td>33.440</td>\n",
       "      <td>1</td>\n",
       "      <td>1</td>\n",
       "      <td>0</td>\n",
       "      <td>8240.58960</td>\n",
       "    </tr>\n",
       "    <tr>\n",
       "      <th>7</th>\n",
       "      <td>37</td>\n",
       "      <td>1</td>\n",
       "      <td>27.740</td>\n",
       "      <td>3</td>\n",
       "      <td>1</td>\n",
       "      <td>3</td>\n",
       "      <td>7281.50560</td>\n",
       "    </tr>\n",
       "    <tr>\n",
       "      <th>8</th>\n",
       "      <td>37</td>\n",
       "      <td>0</td>\n",
       "      <td>29.830</td>\n",
       "      <td>2</td>\n",
       "      <td>1</td>\n",
       "      <td>2</td>\n",
       "      <td>6406.41070</td>\n",
       "    </tr>\n",
       "    <tr>\n",
       "      <th>9</th>\n",
       "      <td>60</td>\n",
       "      <td>1</td>\n",
       "      <td>25.840</td>\n",
       "      <td>0</td>\n",
       "      <td>1</td>\n",
       "      <td>3</td>\n",
       "      <td>28923.13692</td>\n",
       "    </tr>\n",
       "    <tr>\n",
       "      <th>10</th>\n",
       "      <td>25</td>\n",
       "      <td>0</td>\n",
       "      <td>26.220</td>\n",
       "      <td>0</td>\n",
       "      <td>1</td>\n",
       "      <td>2</td>\n",
       "      <td>2721.32080</td>\n",
       "    </tr>\n",
       "    <tr>\n",
       "      <th>11</th>\n",
       "      <td>62</td>\n",
       "      <td>1</td>\n",
       "      <td>26.290</td>\n",
       "      <td>0</td>\n",
       "      <td>0</td>\n",
       "      <td>0</td>\n",
       "      <td>27808.72510</td>\n",
       "    </tr>\n",
       "    <tr>\n",
       "      <th>12</th>\n",
       "      <td>23</td>\n",
       "      <td>0</td>\n",
       "      <td>34.400</td>\n",
       "      <td>0</td>\n",
       "      <td>1</td>\n",
       "      <td>1</td>\n",
       "      <td>1826.84300</td>\n",
       "    </tr>\n",
       "    <tr>\n",
       "      <th>13</th>\n",
       "      <td>56</td>\n",
       "      <td>1</td>\n",
       "      <td>39.820</td>\n",
       "      <td>0</td>\n",
       "      <td>1</td>\n",
       "      <td>0</td>\n",
       "      <td>11090.71780</td>\n",
       "    </tr>\n",
       "    <tr>\n",
       "      <th>14</th>\n",
       "      <td>27</td>\n",
       "      <td>0</td>\n",
       "      <td>42.130</td>\n",
       "      <td>0</td>\n",
       "      <td>0</td>\n",
       "      <td>0</td>\n",
       "      <td>39611.75770</td>\n",
       "    </tr>\n",
       "  </tbody>\n",
       "</table>\n",
       "</div>"
      ],
      "text/plain": [
       "    age  sex     bmi  children  smoker  region      charges\n",
       "0    19    1  27.900         0       0       1  16884.92400\n",
       "1    18    0  33.770         1       1       0   1725.55230\n",
       "2    28    0  33.000         3       1       0   4449.46200\n",
       "3    33    0  22.705         0       1       3  21984.47061\n",
       "4    32    0  28.880         0       1       3   3866.85520\n",
       "5    31    1  25.740         0       1       0   3756.62160\n",
       "6    46    1  33.440         1       1       0   8240.58960\n",
       "7    37    1  27.740         3       1       3   7281.50560\n",
       "8    37    0  29.830         2       1       2   6406.41070\n",
       "9    60    1  25.840         0       1       3  28923.13692\n",
       "10   25    0  26.220         0       1       2   2721.32080\n",
       "11   62    1  26.290         0       0       0  27808.72510\n",
       "12   23    0  34.400         0       1       1   1826.84300\n",
       "13   56    1  39.820         0       1       0  11090.71780\n",
       "14   27    0  42.130         0       0       0  39611.75770"
      ]
     },
     "execution_count": 43,
     "metadata": {},
     "output_type": "execute_result"
    }
   ],
   "source": [
    "data.head(15)"
   ]
  },
  {
   "cell_type": "code",
   "execution_count": 44,
   "metadata": {},
   "outputs": [
    {
     "data": {
      "image/png": "[encoded data removed]",
      "text/plain": [
       "<Figure size 432x288 with 1 Axes>"
      ]
     },
     "metadata": {},
     "output_type": "display_data"
    }
   ],
   "source": [
    "fig, ax = plt.subplots()\n",
    "ax.scatter(y_test, y_pred, edgecolors=(0, 0, 0))\n",
    "ax.plot([y_test.min(), y_test.max()], [y_test.min(), y_test.max()], 'k--', lw=4)\n",
    "ax.set_xlabel('Actual')\n",
    "ax.set_ylabel('Predicted')\n",
    "ax.set_title(\"Random Forest Regression\")\n",
    "plt.show()"
   ]
  },
  {
   "cell_type": "markdown",
   "metadata": {},
   "source": [
    "The Random Forest Regressor gave near accurate figures, hence, it was the best performance.The Random Forest Regressor gave an R_squared of 97.6%. It means, 97.6% of the observed variation can be explained by the model's inputs.\n",
    "The Linear Regression had an R_squared of 74%, which means, 74% of the observed variation can be explained by the model's inputs."
   ]
  }
 ],
 "metadata": {
  "kernelspec": {
   "display_name": "Python 3",
   "language": "python",
   "name": "python3"
  },
  "language_info": {
   "codemirror_mode": {
    "name": "ipython",
    "version": 3
   },
   "file_extension": ".py",
   "mimetype": "text/x-python",
   "name": "python",
   "nbconvert_exporter": "python",
   "pygments_lexer": "ipython3",
   "version": "3.8.5"
  }
 },
 "nbformat": 4,
 "nbformat_minor": 4
}
